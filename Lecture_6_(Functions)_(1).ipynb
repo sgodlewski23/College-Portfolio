{
  "cells": [
    {
      "cell_type": "markdown",
      "metadata": {
        "id": "view-in-github",
        "colab_type": "text"
      },
      "source": [
        "<a href=\"https://colab.research.google.com/github/sgodlewski23/College-Portfolio/blob/main/Lecture_6_(Functions)_(1).ipynb\" target=\"_parent\"><img src=\"https://colab.research.google.com/assets/colab-badge.svg\" alt=\"Open In Colab\"/></a>"
      ]
    },
    {
      "cell_type": "markdown",
      "metadata": {
        "id": "z4mvul38WKYt"
      },
      "source": [
        "# Lecture 6 (Functions)\n",
        "\n",
        "Today, we will learn:\n",
        "\n",
        "- Functions\n",
        "    - define your own function\n",
        "    - find and write your own function documentation\n",
        "    - why we use functions?\n",
        "    - understand scope\n",
        "    - application\n",
        "    \n",
        "## 1. Overview\n",
        "\n",
        "One construct that is extremely useful and provided by almost all programming languages is `functions`.\n",
        "\n",
        "A function is named section of a program that implements a specific task.\n",
        "\n",
        "Many functions exist already and we can use them off the shlef.\n",
        "\n",
        "We have already met several functions, such as\n",
        "\n",
        "    - the `print()` function\n",
        "    - the `sin()` function from the math package\n",
        "    - `type()` function\n",
        "\n",
        "One of the things we will learn is build your own (user-defined) functions.\n",
        "\n",
        "We use function for the following purposes:\n",
        "\n",
        "- *Re-usability*: writing code to do a specific task, and reuse the code by calling the function.\n",
        "- *Organization*: keep the function for distinct operations.\n",
        "- *Sharing*: share the code across multiple projects/collaborations.\n"
      ]
    },
    {
      "cell_type": "code",
      "execution_count": null,
      "metadata": {
        "scrolled": true,
        "id": "fZzykPUGWKY0",
        "outputId": "87c9535d-9588-438d-dc94-80060ae81ad8"
      },
      "outputs": [
        {
          "data": {
            "text/plain": [
              "19"
            ]
          },
          "execution_count": 1,
          "metadata": {},
          "output_type": "execute_result"
        }
      ],
      "source": [
        "# examples:\n",
        "max(14,19)"
      ]
    },
    {
      "cell_type": "code",
      "execution_count": null,
      "metadata": {
        "id": "tZpiNtaaWKY3",
        "outputId": "b398d3a2-537e-4add-a398-0f8464562580"
      },
      "outputs": [
        {
          "name": "stdout",
          "output_type": "stream",
          "text": [
            "UConn\n"
          ]
        }
      ],
      "source": [
        "print('UConn')"
      ]
    },
    {
      "cell_type": "code",
      "execution_count": null,
      "metadata": {
        "id": "0KSK8Kg-WKY4",
        "outputId": "732f85a0-e418-4811-f341-4ef637b4a026"
      },
      "outputs": [
        {
          "data": {
            "text/plain": [
              "'10'"
            ]
          },
          "execution_count": 3,
          "metadata": {},
          "output_type": "execute_result"
        }
      ],
      "source": [
        "str(10)"
      ]
    },
    {
      "cell_type": "markdown",
      "metadata": {
        "id": "SAztfZ64WKY4"
      },
      "source": [
        "## 2. Defining Functions\n",
        "\n",
        "The basic syntax is\n",
        "\n"
      ]
    },
    {
      "cell_type": "code",
      "execution_count": null,
      "metadata": {
        "id": "GR0YQn6UWKY7"
      },
      "outputs": [],
      "source": [
        "def function_name(inputs):\n",
        "    # steps...\n",
        "    return outputs"
      ]
    },
    {
      "cell_type": "markdown",
      "metadata": {
        "id": "4wqGonhxWKY8"
      },
      "source": [
        "Note that `def` is used to tell Python we would like to define a new function. And `return` is used to tell Python what we want to return from a function.\n",
        "\n",
        "Let's consider a toy example: $$f(x) = 5\\times x + 1$$"
      ]
    },
    {
      "cell_type": "code",
      "execution_count": null,
      "metadata": {
        "id": "AJPL8qcPWKY9"
      },
      "outputs": [],
      "source": [
        "def f(x):\n",
        "    return 5*x + 1"
      ]
    },
    {
      "cell_type": "markdown",
      "metadata": {
        "id": "87Vy7U32WKY-"
      },
      "source": [
        "Now we've defined the function $f(x)$. Let's call it and check whether it does what we expect:"
      ]
    },
    {
      "cell_type": "code",
      "execution_count": null,
      "metadata": {
        "id": "vNtoAeVTWKY-",
        "outputId": "6db383a4-445f-4fa3-b5e9-14126330ae53"
      },
      "outputs": [
        {
          "data": {
            "text/plain": [
              "31"
            ]
          },
          "execution_count": 5,
          "metadata": {},
          "output_type": "execute_result"
        }
      ],
      "source": [
        "f(6)"
      ]
    },
    {
      "cell_type": "markdown",
      "metadata": {
        "id": "-o2vIggkWKY_"
      },
      "source": [
        "Let's consider a longer function, that computes the absolute value of a given number.\n",
        "\n",
        "Note that there is a built-in function called `abs()` function. However, we can produce our own for the exercise."
      ]
    },
    {
      "cell_type": "code",
      "execution_count": null,
      "metadata": {
        "id": "v3KwwKeBWKY_",
        "outputId": "daba1f6f-37f8-467a-c740-3c2578dd0713"
      },
      "outputs": [
        {
          "data": {
            "text/plain": [
              "10"
            ]
          },
          "execution_count": 6,
          "metadata": {},
          "output_type": "execute_result"
        }
      ],
      "source": [
        "abs(-10)"
      ]
    },
    {
      "cell_type": "code",
      "execution_count": null,
      "metadata": {
        "id": "eLOnsogoWKZA"
      },
      "outputs": [],
      "source": [
        "def absolute_value(x): \n",
        "    if x < 0:\n",
        "        abs_value = -x\n",
        "    else:\n",
        "        abs_value = x\n",
        "    return abs_value"
      ]
    },
    {
      "cell_type": "code",
      "execution_count": null,
      "metadata": {
        "id": "34mQQV3jWKZA",
        "outputId": "921f8761-cce0-459f-82dd-24280b4eb65e"
      },
      "outputs": [
        {
          "name": "stdout",
          "output_type": "stream",
          "text": [
            "10\n"
          ]
        }
      ],
      "source": [
        "print(absolute_value(-10))"
      ]
    },
    {
      "cell_type": "markdown",
      "metadata": {
        "id": "UJMLiruZWKZB"
      },
      "source": [
        "In addition, indentation controls blocks of code along with the scope rules.\n",
        "\n",
        "To see this, compare a function with no inputs or return values."
      ]
    },
    {
      "cell_type": "code",
      "execution_count": null,
      "metadata": {
        "id": "lCfnPNhNWKZB",
        "outputId": "ff8e6415-ec46-4b3c-d45e-417ceac2e861"
      },
      "outputs": [
        {
          "name": "stdout",
          "output_type": "stream",
          "text": [
            "a\n",
            "b\n"
          ]
        }
      ],
      "source": [
        "def f():\n",
        "    print(\"a\")\n",
        "    print(\"b\")\n",
        "f()"
      ]
    },
    {
      "cell_type": "markdown",
      "metadata": {
        "id": "gesUddmSWKZC"
      },
      "source": [
        "With the following change of indentation,"
      ]
    },
    {
      "cell_type": "code",
      "execution_count": null,
      "metadata": {
        "id": "YAEmqk5fWKZC",
        "outputId": "53521641-f5f8-444b-c0ce-a44e2e96fb11"
      },
      "outputs": [
        {
          "name": "stdout",
          "output_type": "stream",
          "text": [
            "b\n",
            "a\n"
          ]
        }
      ],
      "source": [
        "def f():\n",
        "    print(\"a\")\n",
        "print(\"b\")\n",
        "f()"
      ]
    },
    {
      "cell_type": "markdown",
      "metadata": {
        "id": "-me-NLHPWKZD"
      },
      "source": [
        "**scope rules**\n",
        "\n",
        "Let's generate a mean function as follows:"
      ]
    },
    {
      "cell_type": "code",
      "execution_count": null,
      "metadata": {
        "id": "wT_QGNSQWKZE"
      },
      "outputs": [],
      "source": [
        "def mean(numbers):\n",
        "    total = sum(numbers)\n",
        "    N = len(numbers)\n",
        "    answer = total / N\n",
        "    return answer\n"
      ]
    },
    {
      "cell_type": "code",
      "execution_count": null,
      "metadata": {
        "id": "ea7_TYKOWKZF",
        "outputId": "280c10d8-946c-4744-fcd9-cb099ebb5582"
      },
      "outputs": [
        {
          "data": {
            "text/plain": [
              "4.5"
            ]
          },
          "execution_count": 3,
          "metadata": {},
          "output_type": "execute_result"
        }
      ],
      "source": [
        "x = range(10) # name the input\n",
        "the_mean = mean(x) # name the output\n",
        "the_mean"
      ]
    },
    {
      "cell_type": "markdown",
      "metadata": {
        "id": "MWX4gva3WKZG"
      },
      "source": [
        "Notice that we named the input to `x` and we called the output `the_mean`.\n",
        "\n",
        "When we defined the function, the input was called `numbers` and the output `answer`...\n",
        "\n",
        "This is an example of a programming concept called variable scope. For more details, check [this](http://python-textbok.readthedocs.io/en/1.0/Variables_and_Scope.html) reference.\n",
        "\n",
        "In Python, functions define their own scope for variables.\n",
        "\n",
        "In this example, although we called the output `answer` inside of the function `mean`, **this variable name was only valid inside of the function**. To check this out, try to see what the value of `N` or `total`.\n"
      ]
    },
    {
      "cell_type": "code",
      "execution_count": null,
      "metadata": {
        "id": "TbJBwKbqWKZG",
        "outputId": "ee1f4856-3229-473e-aec9-24b1788ddfd1"
      },
      "outputs": [
        {
          "ename": "NameError",
          "evalue": "name 'answer' is not defined",
          "output_type": "error",
          "traceback": [
            "\u001b[0;31m---------------------------------------------------------------------------\u001b[0m",
            "\u001b[0;31mNameError\u001b[0m                                 Traceback (most recent call last)",
            "\u001b[0;32m<ipython-input-4-b33788c35f07>\u001b[0m in \u001b[0;36m<module>\u001b[0;34m\u001b[0m\n\u001b[0;32m----> 1\u001b[0;31m \u001b[0manswer\u001b[0m\u001b[0;34m\u001b[0m\u001b[0;34m\u001b[0m\u001b[0m\n\u001b[0m",
            "\u001b[0;31mNameError\u001b[0m: name 'answer' is not defined"
          ]
        }
      ],
      "source": [
        "answer"
      ]
    },
    {
      "cell_type": "code",
      "execution_count": null,
      "metadata": {
        "id": "a2LACRd6WKZI",
        "outputId": "3bf8db15-f22b-4223-9328-170901cd75e5"
      },
      "outputs": [
        {
          "ename": "NameError",
          "evalue": "name 'total' is not defined",
          "output_type": "error",
          "traceback": [
            "\u001b[0;31m---------------------------------------------------------------------------\u001b[0m",
            "\u001b[0;31mNameError\u001b[0m                                 Traceback (most recent call last)",
            "\u001b[0;32m<ipython-input-12-517c68ee957b>\u001b[0m in \u001b[0;36m<module>\u001b[0;34m\u001b[0m\n\u001b[0;32m----> 1\u001b[0;31m \u001b[0mprint\u001b[0m\u001b[0;34m(\u001b[0m\u001b[0mtotal\u001b[0m\u001b[0;34m)\u001b[0m\u001b[0;34m\u001b[0m\u001b[0;34m\u001b[0m\u001b[0m\n\u001b[0m",
            "\u001b[0;31mNameError\u001b[0m: name 'total' is not defined"
          ]
        }
      ],
      "source": [
        "print(total)"
      ]
    },
    {
      "cell_type": "code",
      "execution_count": null,
      "metadata": {
        "id": "-p8i-GoOWKZJ",
        "outputId": "2c1fb746-51a1-4134-886b-471a2980cdf7"
      },
      "outputs": [
        {
          "ename": "NameError",
          "evalue": "name 'N' is not defined",
          "output_type": "error",
          "traceback": [
            "\u001b[0;31m---------------------------------------------------------------------------\u001b[0m",
            "\u001b[0;31mNameError\u001b[0m                                 Traceback (most recent call last)",
            "\u001b[0;32m<ipython-input-13-9b5949cc7fc6>\u001b[0m in \u001b[0;36m<module>\u001b[0;34m\u001b[0m\n\u001b[0;32m----> 1\u001b[0;31m \u001b[0mprint\u001b[0m\u001b[0;34m(\u001b[0m\u001b[0mN\u001b[0m\u001b[0;34m)\u001b[0m\u001b[0;34m\u001b[0m\u001b[0;34m\u001b[0m\u001b[0m\n\u001b[0m",
            "\u001b[0;31mNameError\u001b[0m: name 'N' is not defined"
          ]
        }
      ],
      "source": [
        "print(N)"
      ]
    },
    {
      "cell_type": "markdown",
      "metadata": {
        "id": "NBXPcH-FWKZJ"
      },
      "source": [
        "However, **we don't have to name the input or output**, and we can call the function directly:"
      ]
    },
    {
      "cell_type": "code",
      "execution_count": null,
      "metadata": {
        "id": "wXYzsuHxWKZK",
        "outputId": "9dc80d2c-4fa0-43a7-ffa3-a8e649dbe6d1"
      },
      "outputs": [
        {
          "data": {
            "text/plain": [
              "4.5"
            ]
          },
          "execution_count": 14,
          "metadata": {},
          "output_type": "execute_result"
        }
      ],
      "source": [
        "mean(range(10))"
      ]
    },
    {
      "cell_type": "markdown",
      "metadata": {
        "id": "ELJ4_MLPWKZK"
      },
      "source": [
        "Furthermore, the same name can be used to variables inside of blocks of code and in the outer \"scope\":"
      ]
    },
    {
      "cell_type": "code",
      "execution_count": null,
      "metadata": {
        "id": "-VoUwOPAWKZK",
        "outputId": "d1f79b17-3071-4f4f-d4e0-cc518914817a"
      },
      "outputs": [
        {
          "name": "stdout",
          "output_type": "stream",
          "text": [
            "x is 1\n",
            "x is 10\n",
            "x is 1\n"
          ]
        }
      ],
      "source": [
        "x = 1\n",
        "print(\"x is\", x)\n",
        "def f():\n",
        "    x = 10 # set a different \"x\"\n",
        "    print(\"x is\", x)\n",
        "f() # call the function\n",
        "print(\"x is\", x)"
      ]
    },
    {
      "cell_type": "markdown",
      "metadata": {
        "id": "nirgLuPeWKZL"
      },
      "source": [
        "## 3. Application\n",
        "\n",
        "Let's simulate and plot the white noixe process $\\epsilon_0,\\epsilon_1,...,\\epsilon_T$, where each draw $\\epsilon_t$ is independent standard normal.\n",
        "\n",
        "We first import the most popular packages called `numpy` and `matplotlib.pyplot` that will be explored in details later.\n",
        "\n"
      ]
    },
    {
      "cell_type": "code",
      "execution_count": null,
      "metadata": {
        "id": "cDR3pfb1WKZL",
        "outputId": "48d5c236-b09b-40a2-a81d-5431ed60abb3"
      },
      "outputs": [
        {
          "data": {
            "text/plain": [
              "0.256403153981322"
            ]
          },
          "execution_count": 18,
          "metadata": {},
          "output_type": "execute_result"
        }
      ],
      "source": [
        "import numpy as np\n",
        "np.random.randn() # this generate a random number from N(0,1)"
      ]
    },
    {
      "cell_type": "markdown",
      "metadata": {
        "id": "0OVzaEjvWKZL"
      },
      "source": [
        "Let's define a function that generate `T` random numbers as follows:\n"
      ]
    },
    {
      "cell_type": "code",
      "execution_count": null,
      "metadata": {
        "id": "Yq48WkbEWKZM"
      },
      "outputs": [],
      "source": [
        "def generate_data(T):\n",
        "    eps_values = [] # empty list\n",
        "    for i in range(T):\n",
        "        e = np.random.randn()\n",
        "        eps_values.append(e)\n",
        "    return eps_values"
      ]
    },
    {
      "cell_type": "markdown",
      "metadata": {
        "id": "lDE0ehTIWKZM"
      },
      "source": [
        "Then we can generate 100 random numbers from standard normal and plot them:"
      ]
    },
    {
      "cell_type": "code",
      "execution_count": null,
      "metadata": {
        "id": "tYyyA6AzWKZM",
        "outputId": "643bef7a-0cf4-4440-9cc8-f18ab34b0424"
      },
      "outputs": [
        {
          "data": {
            "image/png": "[encoded data removed]",
            "text/plain": [
              "<Figure size 432x288 with 1 Axes>"
            ]
          },
          "metadata": {
            "needs_background": "light"
          },
          "output_type": "display_data"
        }
      ],
      "source": [
        "data = generate_data(100)\n",
        "#print(data)\n",
        "\n",
        "# import matplotlib.pyplot package\n",
        "import matplotlib.pyplot as plt\n",
        "\n",
        "# The next two lines genererate the plot.\n",
        "plt.plot(data)\n",
        "plt.show()"
      ]
    },
    {
      "cell_type": "markdown",
      "metadata": {
        "id": "-sArfUiUWKZN"
      },
      "source": [
        "Here t is on the horiaontal axis (from 1 to 100) and $\\epsilon_t$ is on the vertical axis.\n",
        "\n",
        "Using the `numpy` functions, let's check the mean and variance of generated datasets."
      ]
    },
    {
      "cell_type": "code",
      "execution_count": null,
      "metadata": {
        "scrolled": true,
        "id": "XLGzsBdpWKZN",
        "outputId": "db85d9c9-fb64-451d-e4af-c5faa67eae61"
      },
      "outputs": [
        {
          "name": "stdout",
          "output_type": "stream",
          "text": [
            "the mean is -2.4657966203451148e-05\n",
            "the variance is 0.9998690510656096\n"
          ]
        }
      ],
      "source": [
        "print(\"the mean is\", np.mean(data)) # find a mean of generated data\n",
        "print(\"the variance is\", np.var(data))  # find a variance of generated data"
      ]
    },
    {
      "cell_type": "markdown",
      "metadata": {
        "id": "3xcEp4kMWKZO"
      },
      "source": [
        "#### Generalization: Add conditions statement  \n",
        "\n",
        "Let's give additional condition, that the function generate either standard normal or uniform random variables on (0, 1) using the conditional statement as follows.\n"
      ]
    },
    {
      "cell_type": "code",
      "execution_count": null,
      "metadata": {
        "id": "7JwBhaHsWKZO"
      },
      "outputs": [],
      "source": [
        "def generate_data(T, generater_type):\n",
        "    eps_values = []\n",
        "    for i in range(T):\n",
        "        if generater_type == 'Uniform':\n",
        "            e = np.random.uniform(0, 1)\n",
        "        else:\n",
        "            e = np.random.randn()\n",
        "        eps_values.append(e)\n",
        "    return eps_values"
      ]
    },
    {
      "cell_type": "markdown",
      "metadata": {
        "id": "DCpfoOgyWKZO"
      },
      "source": [
        "Note that equaltity is tested with the `==` syntax, not `=`. For example,\n",
        "    - the statement `a = 5` assigns the name `a` to the value `5`.\n",
        "    - the expression `a == 5` evaluates to either True or False, depending on the value `a`.\n",
        "\n",
        "Let's generate random numbers from an uniform distribution (0, 1):"
      ]
    },
    {
      "cell_type": "code",
      "execution_count": null,
      "metadata": {
        "scrolled": false,
        "id": "GVIOMroWWKZO",
        "outputId": "a948fefc-4a84-469e-dcf5-4bb925df19dc"
      },
      "outputs": [
        {
          "data": {
            "image/png": "[encoded data removed]",
            "text/plain": [
              "<Figure size 432x288 with 1 Axes>"
            ]
          },
          "metadata": {
            "needs_background": "light"
          },
          "output_type": "display_data"
        },
        {
          "name": "stdout",
          "output_type": "stream",
          "text": [
            "the mean is 0.5853109910430558\n",
            "the variance is 0.07514192617445742\n"
          ]
        }
      ],
      "source": [
        "data2 = generate_data(100, 'Uniform')\n",
        "plt.plot(data2)\n",
        "plt.show()\n",
        "\n",
        "print(\"the mean is\", np.mean(data2)) # find a mean of generated data\n",
        "print(\"the variance is\", np.var(data2))  # find a variance of generated data"
      ]
    },
    {
      "cell_type": "markdown",
      "metadata": {
        "id": "CZEXNzPIWKZR"
      },
      "source": [
        "We can simplify the `generate_data` function code. \n",
        "\n",
        "For example, we can get rid of the conditionals all together by just passing the desired generator_type as a \"function\".\n"
      ]
    },
    {
      "cell_type": "code",
      "execution_count": null,
      "metadata": {
        "id": "lYn7tM1OWKZR"
      },
      "outputs": [],
      "source": [
        "def generate_data(T, generator_type):\n",
        "    eps_values = []\n",
        "    for i in range(T):\n",
        "        e = generator_type()\n",
        "        eps_values.append(e)\n",
        "    return eps_values"
      ]
    },
    {
      "cell_type": "code",
      "execution_count": null,
      "metadata": {
        "id": "03gz3-JmWKZS",
        "outputId": "4653cd2b-0b21-4bf7-b87b-c0c28266e4fb"
      },
      "outputs": [
        {
          "data": {
            "image/png": "[encoded data removed]",
            "text/plain": [
              "<Figure size 432x288 with 1 Axes>"
            ]
          },
          "metadata": {
            "needs_background": "light"
          },
          "output_type": "display_data"
        }
      ],
      "source": [
        "# Then we can generate data from Uniform(0,1)\n",
        "data3 = generate_data(100, np.random.uniform)\n",
        "plt.plot(data3)\n",
        "plt.show()"
      ]
    },
    {
      "cell_type": "markdown",
      "metadata": {
        "id": "SHXBRRXjWKZS"
      },
      "source": [
        "Now, when we call the `generate_data()` function, we pass `np.random.uniform` as the second argument.\n",
        "\n",
        "This object is a *function*.\n",
        "\n",
        "i.e., when `generate_data(100, np.random.uniform)` is excuted, Python runs the function code block with `T` equals to 100 and the name `generater_type` \"bound\" to the function `np.random.uniform`."
      ]
    },
    {
      "cell_type": "code",
      "execution_count": null,
      "metadata": {
        "id": "OrcK-vLoWKZS",
        "outputId": "807f72d3-4982-4724-9ca9-8f5350fa87fc"
      },
      "outputs": [
        {
          "name": "stdout",
          "output_type": "stream",
          "text": [
            "the mean is -0.017771712340814354\n",
            "the variance is 0.923460858060586\n"
          ]
        }
      ],
      "source": [
        "# or from N(0,1)\n",
        "data4 = generate_data(100, np.random.randn)\n",
        "print(\"the mean is\", np.mean(data4)) # find a mean of generated data\n",
        "print(\"the variance is\", np.var(data4))  # find a variance of generated data"
      ]
    },
    {
      "cell_type": "markdown",
      "metadata": {
        "id": "zPTRigGLWKZS"
      },
      "source": [
        "To understand this principle, consider the following example:"
      ]
    },
    {
      "cell_type": "code",
      "execution_count": null,
      "metadata": {
        "id": "oPbkMfgxWKZT",
        "outputId": "d53beefc-f4b4-4ff9-d6c6-1126229cde97"
      },
      "outputs": [
        {
          "data": {
            "text/plain": [
              "1"
            ]
          },
          "execution_count": 30,
          "metadata": {},
          "output_type": "execute_result"
        }
      ],
      "source": [
        "min(3, 1, 10) # min() is a built-in function"
      ]
    },
    {
      "cell_type": "code",
      "execution_count": null,
      "metadata": {
        "id": "HVzcsN2JWKZT",
        "outputId": "c83a96d1-b54c-4702-9263-202646f89cfa"
      },
      "outputs": [
        {
          "data": {
            "text/plain": [
              "1"
            ]
          },
          "execution_count": 31,
          "metadata": {},
          "output_type": "execute_result"
        }
      ],
      "source": [
        "m = min\n",
        "m(3, 1, 10)"
      ]
    },
    {
      "cell_type": "markdown",
      "metadata": {
        "id": "qJQ8R8TZWKZT"
      },
      "source": [
        "Here we created another name for the built-in function `min()`, which could then be used in identical ways."
      ]
    },
    {
      "cell_type": "code",
      "execution_count": null,
      "metadata": {
        "id": "uJFxgZcZWKZU"
      },
      "outputs": [],
      "source": []
    }
  ],
  "metadata": {
    "kernelspec": {
      "display_name": "Python 3",
      "language": "python",
      "name": "python3"
    },
    "language_info": {
      "codemirror_mode": {
        "name": "ipython",
        "version": 3
      },
      "file_extension": ".py",
      "mimetype": "text/x-python",
      "name": "python",
      "nbconvert_exporter": "python",
      "pygments_lexer": "ipython3",
      "version": "3.7.6"
    },
    "colab": {
      "provenance": [],
      "include_colab_link": true
    }
  },
  "nbformat": 4,
  "nbformat_minor": 0
}